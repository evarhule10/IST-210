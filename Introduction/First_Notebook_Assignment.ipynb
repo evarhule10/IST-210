{
  "nbformat": 4,
  "nbformat_minor": 0,
  "metadata": {
    "colab": {
      "name": "First Notebook Assignment.ipynb",
      "provenance": [],
      "authorship_tag": "ABX9TyN/pEbJq3o+Otfvt2tvxJal",
      "include_colab_link": true
    },
    "kernelspec": {
      "name": "python3",
      "display_name": "Python 3"
    }
  },
  "cells": [
    {
      "cell_type": "markdown",
      "metadata": {
        "id": "view-in-github",
        "colab_type": "text"
      },
      "source": [
        "<a href=\"https://colab.research.google.com/github/evarhule10/IST-210/blob/master/Introduction/First_Notebook_Assignment.ipynb\" target=\"_parent\"><img src=\"https://colab.research.google.com/assets/colab-badge.svg\" alt=\"Open In Colab\"/></a>"
      ]
    },
    {
      "cell_type": "markdown",
      "metadata": {
        "id": "aaSWBAt7Et9R",
        "colab_type": "text"
      },
      "source": [
        "###My Name"
      ]
    },
    {
      "cell_type": "markdown",
      "metadata": {
        "id": "kEWIGLqHEyYH",
        "colab_type": "text"
      },
      "source": [
        "Eva Rhule"
      ]
    },
    {
      "cell_type": "markdown",
      "metadata": {
        "id": "yJuPmst-E0TY",
        "colab_type": "text"
      },
      "source": [
        "###IST Related Interests"
      ]
    },
    {
      "cell_type": "markdown",
      "metadata": {
        "id": "jAH1aEY4E4BT",
        "colab_type": "text"
      },
      "source": [
        "I am a Telecommunications major in the College of Communications but I added an IST minor because I wanted to get a better understanding of how the technology that I was learning about worked. "
      ]
    },
    {
      "cell_type": "markdown",
      "metadata": {
        "id": "33ihoL8lFM4N",
        "colab_type": "text"
      },
      "source": [
        "###My Future Job/Career"
      ]
    },
    {
      "cell_type": "markdown",
      "metadata": {
        "id": "RCjLRKq2FQeo",
        "colab_type": "text"
      },
      "source": [
        "I want to go to law school after I graduate and pursue a career in telecommunications law. My dream job would be working for the Federal Communications Commission as an attorney."
      ]
    },
    {
      "cell_type": "markdown",
      "metadata": {
        "id": "DMUeFZSgGzno",
        "colab_type": "text"
      },
      "source": [
        "![alt text](https://raw.githubusercontent.com/evarhule10/IST-210/master/Introduction/Headshot%202.jpg)"
      ]
    }
  ]
}