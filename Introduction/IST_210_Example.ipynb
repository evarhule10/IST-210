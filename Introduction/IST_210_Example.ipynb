{
  "nbformat": 4,
  "nbformat_minor": 0,
  "metadata": {
    "colab": {
      "name": "IST 210 Example.ipynb",
      "provenance": [],
      "authorship_tag": "ABX9TyNw59HguJHoE426FCs3sC3c",
      "include_colab_link": true
    },
    "kernelspec": {
      "name": "python3",
      "display_name": "Python 3"
    }
  },
  "cells": [
    {
      "cell_type": "markdown",
      "metadata": {
        "id": "view-in-github",
        "colab_type": "text"
      },
      "source": [
        "<a href=\"https://colab.research.google.com/github/evarhule10/IST-210/blob/master/Introduction/IST_210_Example.ipynb\" target=\"_parent\"><img src=\"https://colab.research.google.com/assets/colab-badge.svg\" alt=\"Open In Colab\"/></a>"
      ]
    },
    {
      "cell_type": "code",
      "metadata": {
        "id": "2ymnEAYozHiE",
        "colab_type": "code",
        "colab": {
          "base_uri": "https://localhost:8080/",
          "height": 34
        },
        "outputId": "cee0a7a3-cfd4-437f-8774-85d3e5cc6a51"
      },
      "source": [
        "2+2"
      ],
      "execution_count": 2,
      "outputs": [
        {
          "output_type": "execute_result",
          "data": {
            "text/plain": [
              "4"
            ]
          },
          "metadata": {
            "tags": []
          },
          "execution_count": 2
        }
      ]
    },
    {
      "cell_type": "markdown",
      "metadata": {
        "id": "_QL93HB-zkY0",
        "colab_type": "text"
      },
      "source": [
        "#Header"
      ]
    },
    {
      "cell_type": "markdown",
      "metadata": {
        "id": "H9a7yLf14JIt",
        "colab_type": "text"
      },
      "source": [
        "![alt text](https://raw.githubusercontent.com/evarhule10/IST-210/master/Introduction/NU7kPeCjRo6DJKUQGXe8wA.jpg)"
      ]
    },
    {
      "cell_type": "markdown",
      "metadata": {
        "id": "Ah-adP_10v7W",
        "colab_type": "text"
      },
      "source": [
        "##Header"
      ]
    },
    {
      "cell_type": "markdown",
      "metadata": {
        "id": "IZV-TiY_0zBK",
        "colab_type": "text"
      },
      "source": [
        "###Header\n"
      ]
    }
  ]
}