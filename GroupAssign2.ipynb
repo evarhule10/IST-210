{
  "nbformat": 4,
  "nbformat_minor": 0,
  "metadata": {
    "colab": {
      "name": "GroupAssign2.ipynb",
      "provenance": [],
      "authorship_tag": "ABX9TyOLE+aITdbTZI0yZptm4Sdi",
      "include_colab_link": true
    },
    "kernelspec": {
      "name": "python3",
      "display_name": "Python 3"
    }
  },
  "cells": [
    {
      "cell_type": "markdown",
      "metadata": {
        "id": "view-in-github",
        "colab_type": "text"
      },
      "source": [
        "<a href=\"https://colab.research.google.com/github/evarhule10/IST-210/blob/master/GroupAssign2.ipynb\" target=\"_parent\"><img src=\"https://colab.research.google.com/assets/colab-badge.svg\" alt=\"Open In Colab\"/></a>"
      ]
    },
    {
      "cell_type": "markdown",
      "metadata": {
        "id": "4J9bUczoaBdu",
        "colab_type": "text"
      },
      "source": [
        "#Group 8 Career Fair Database ER Diagram"
      ]
    },
    {
      "cell_type": "markdown",
      "metadata": {
        "id": "uIoKGvo8aEca",
        "colab_type": "text"
      },
      "source": [
        "![Career Fair ER Diagram](https://raw.githubusercontent.com/evarhule10/IST-210/master/Career%20Fair%20ER%20Diagram.png)"
      ]
    },
    {
      "cell_type": "markdown",
      "metadata": {
        "id": "-QLEO2l9adUJ",
        "colab_type": "text"
      },
      "source": [
        "#Write-Up"
      ]
    },
    {
      "cell_type": "markdown",
      "metadata": {
        "id": "30jcK5IRahkz",
        "colab_type": "text"
      },
      "source": [
        "The Career Fair database is for the organizer of the Career Fair in order to have a systematic view of the data required to set up and run the fair. \n",
        "\n",
        "The job information entity has a primary key of PostID for the job posting ID that is on the company’s website (which will be unique). The different attributes will include the date the job is available, the job title, the application deadline date, hourly rate of the job, location of the job, and the company the job is with. The company that the job is with is a foreign key that corresponds with the company information table in a one-to-one relationship (each job posting is posted by only one company). In the reverse direction, there is a one-to-many relationship as each company will post many different job postings.\n",
        "\n",
        "The company information table contains all the basic information about the company, including the company’s name, the name of the recruiter representing the company, and the industry the company is a part of. The primary key for the table is CompanyID which will be a number unique to every company at the career fair. The company ID number is also used to identify the specific company in the CompanyBooths table as a foreign key. There is a mandatory one to one relationship between these two tables on both ends. For a company to be at the career fair it has to have a booth, but it can only have one booth, and every booth can only have one company. \n",
        "\n",
        "The company booths table contains all the information about each of the booths occupied by the different companies. Each booth will be assigned its own ID which will be used to record what dates and times each booth is scheduled to be used. This will allow companies to schedule when they can occupy the booth. It is linked to the company information table by the companyID of the company currently occupying the booth. \n",
        "\n",
        "The table for “Student Information” covers the basic data of the student. The primary key id StudentID as it is unique to each student at the university. The other attributes in this table are first name, last name, email ID, and transcript. The transcript attribute is the for foreign key for the table. It relates to the entity for “Transcripts” with a one-to-one relationship both ways as one student will have one transcrip and one transcript will be for one student. . \n",
        "\n",
        "The “Transcripts” entity has a primary key of TranscriptID. The primary key will help identify the transcript for the given student and hece is unique for each individual. The table contains different attributes that are- Primary major, GPA, graduation year. \n",
        "\n",
        "\n",
        "\n",
        "\n"
      ]
    }
  ]
}