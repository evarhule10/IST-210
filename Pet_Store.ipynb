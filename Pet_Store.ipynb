{
  "nbformat": 4,
  "nbformat_minor": 0,
  "metadata": {
    "colab": {
      "name": "Pet Store",
      "provenance": [],
      "collapsed_sections": [],
      "authorship_tag": "ABX9TyMyoObzIQZAnkhaRVjJkfiX",
      "include_colab_link": true
    },
    "kernelspec": {
      "name": "python3",
      "display_name": "Python 3"
    }
  },
  "cells": [
    {
      "cell_type": "markdown",
      "metadata": {
        "id": "view-in-github",
        "colab_type": "text"
      },
      "source": [
        "<a href=\"https://colab.research.google.com/github/evarhule10/IST-210/blob/master/Pet_Store.ipynb\" target=\"_parent\"><img src=\"https://colab.research.google.com/assets/colab-badge.svg\" alt=\"Open In Colab\"/></a>"
      ]
    },
    {
      "cell_type": "markdown",
      "metadata": {
        "id": "ScPRpSGOZVYA",
        "colab_type": "text"
      },
      "source": [
        "#ER Diagram"
      ]
    },
    {
      "cell_type": "markdown",
      "metadata": {
        "id": "oWaAgFUfPbiW",
        "colab_type": "text"
      },
      "source": [
        "![alt text](https://raw.githubusercontent.com/evarhule10/IST-210/master/Pet%20Store%20ER%20diagram%20(1).png)"
      ]
    },
    {
      "cell_type": "markdown",
      "metadata": {
        "id": "7rFnn3C7IwSU",
        "colab_type": "text"
      },
      "source": [
        "#Project Description"
      ]
    },
    {
      "cell_type": "markdown",
      "metadata": {
        "id": "n0ariuESI6sO",
        "colab_type": "text"
      },
      "source": [
        "To create my ER diagram for this assignment, I started with dividing the information into the six different tables. I decided to make mine animals, customers, food, enclosures, animal transactions, and food transactions to best track the transactions and everyday tasks within the business. Then, I wrote the different attributes that I thought were most important to this particular business and what it wants to do. A few notable attributes that might need an explanation include \"food\" under the animal table which I meant to mean the bar code of the food that particular animal eats, \"TotalLoyaltyPoints\" under the customer table was the amount of total loyalty points that customer has earned from animal and food transactions combined, \"location\" under enclosure means the location in the store (ex: aisle 4, top shelf, etc.), and \"quantity\" under the food table which I meant to mean the amount of food in each package (ex: 1 lb, 5 oz, etc.). For tables that don't automatically have a unique identifier for the primary key (such as the bar codes for the food items or customer ID numbers), I am assuming that the store has unique IDs for their purchase numbers, enclosures, and animals so that all of the primary keys are unique. In determining the relationships between the tables, there are a couple assumptions that need to be made. First of all, I am assuming that each enclosure can only hold one animal. I am also assuming that each animal is only fed one type of food. Both of these assumptions are reflecting in the cardinality and connectivity of the diagram. Another important fact to keep in mind is that the reason some of my numbers in the cardinality are so high is to account for items that might be bought in high numbers or very frequently. For example, someone may wish to purchase a large number of fish at one time, so I put the maximum number of animals that can be bought at 30 to account for that. Additionally, certain types of food may be bought very frequently by different customers, so I made the maximum number of food transactions very high to account for that. The rest of the relationships, cardinality, and connectivity should be pretty self-explanatory."
      ]
    }
  ]
}